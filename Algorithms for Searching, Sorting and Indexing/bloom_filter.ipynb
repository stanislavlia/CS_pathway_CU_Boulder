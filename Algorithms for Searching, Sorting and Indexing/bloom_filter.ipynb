{
 "cells": [
  {
   "cell_type": "code",
   "execution_count": 4,
   "id": "9c575460",
   "metadata": {},
   "outputs": [],
   "source": [
    "import random\n",
    "\n",
    "def h1(s,n):\n",
    "    \n",
    "    total = 0\n",
    "    for i in range(len(s)):\n",
    "        total = total + ord(s[i]) * (-2 ** i)\n",
    "        \n",
    "    return total % n\n",
    "\n",
    "    \n",
    "def h2(s, n):\n",
    "    total = 0\n",
    "    for i in range(len(s)):\n",
    "        total = total + ord(s[i]) * (-2 ** i)\n",
    "        \n",
    "    return (total // 2) % n\n",
    "\n",
    "\n",
    "\n",
    "    \n",
    "def h3(s, n):\n",
    "    total = 0\n",
    "    for i in range(len(s)):\n",
    "        total = total + ord(s[i]) * (-2 ** i) + 13 * i\n",
    "        \n",
    "    total = abs(total)\n",
    "    return (total // 3) % n\n",
    "\n",
    "\n",
    "def h4(s, n):\n",
    "    total = 0\n",
    "    for i in range(len(s)):\n",
    "        total = total + ord(s[i]) * (-2 ** i) + 3 * i\n",
    "    \n",
    "    total = abs(total)\n",
    "    return ((total // 2) + 1) % n\n"
   ]
  },
  {
   "cell_type": "code",
   "execution_count": 5,
   "id": "3b2560cb",
   "metadata": {},
   "outputs": [],
   "source": [
    "\n",
    "\n",
    "class BloomFilter():\n",
    "    def __init__(self,m):\n",
    "        self.m = m\n",
    "        self.byte_string = [0 for i in range(m)]\n",
    "        self.inverted_byte_string = [1 for i in range(m)]\n",
    "        self.storage = []\n",
    "        \n",
    "        self.h_funcs = [h1, h2, h3, h4]\n",
    "        \n",
    "        \n",
    "    def insert(self, el):\n",
    "        el = el.lower()\n",
    "        \n",
    "        results_of_hash = [h_f(el, self.m-1) for h_f in self.h_funcs]\n",
    "        \n",
    "        #turning on these bytes\n",
    "        for num_of_b in results_of_hash:\n",
    "            \n",
    "            self.byte_string[num_of_b] = 1\n",
    "            \n",
    "        self.storage.append(el)\n",
    "        \n",
    "    def find(self, el):\n",
    "        el = el.lower()\n",
    "        results_of_hash = [h_f(el, self.m-1) for h_f in self.h_funcs]\n",
    "        \n",
    "        #looking through potential bytes\n",
    "        for num_of_b in results_of_hash:\n",
    "            if self.byte_string[num_of_b] == False:\n",
    "                print(\"Not found\")\n",
    "                return\n",
    "            \n",
    "        print(\"We have - \", el)\n",
    "        return True\n",
    "    \n",
    "\n",
    "        "
   ]
  },
  {
   "cell_type": "code",
   "execution_count": 6,
   "id": "f3ad6b88",
   "metadata": {},
   "outputs": [],
   "source": [
    "bf = BloomFilter(100)\n",
    "\n",
    "my_fav_books = [\"Alice in Wonderland\", \"Don Kihot\",\"Hamlet\",\"War and piece\", \"Fool\"]\n",
    "\n",
    "\n"
   ]
  },
  {
   "cell_type": "code",
   "execution_count": null,
   "id": "ecd7cf9e",
   "metadata": {},
   "outputs": [],
   "source": []
  },
  {
   "cell_type": "code",
   "execution_count": null,
   "id": "765a2f63",
   "metadata": {},
   "outputs": [],
   "source": []
  }
 ],
 "metadata": {
  "kernelspec": {
   "display_name": "Python 3 (ipykernel)",
   "language": "python",
   "name": "python3"
  },
  "language_info": {
   "codemirror_mode": {
    "name": "ipython",
    "version": 3
   },
   "file_extension": ".py",
   "mimetype": "text/x-python",
   "name": "python",
   "nbconvert_exporter": "python",
   "pygments_lexer": "ipython3",
   "version": "3.10.12"
  }
 },
 "nbformat": 4,
 "nbformat_minor": 5
}
