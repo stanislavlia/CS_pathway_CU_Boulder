{
 "cells": [
  {
   "cell_type": "code",
   "execution_count": 1,
   "id": "ac4dc09b",
   "metadata": {},
   "outputs": [],
   "source": [
    "# We know our k1,k2 ... kn keys and we want to perform perfect hashing\n",
    "import random\n",
    "\n",
    "\n",
    "keys = [\"mama\",\"papa\", \"stas\", \"alena\", \"sveta\",\"friend\"]\n",
    "\n"
   ]
  },
  {
   "cell_type": "code",
   "execution_count": 2,
   "id": "0416454c",
   "metadata": {},
   "outputs": [],
   "source": [
    "def h1(s,n):\n",
    "    \n",
    "    total = 0\n",
    "    for i in range(len(s)):\n",
    "        total = total + ord(s[i]) * (-2 ** i)\n",
    "        \n",
    "    return total % n\n",
    "\n",
    "    \n",
    "def h2(s, n):\n",
    "    total = 0\n",
    "    for i in range(len(s)):\n",
    "        total = total + ord(s[i]) * (-2 ** i)\n",
    "        \n",
    "    return (total // 2) % n\n",
    "\n",
    "\n",
    "\n",
    "    \n",
    "def h3(s, n):\n",
    "    total = 0\n",
    "    for i in range(len(s)):\n",
    "        total = total + ord(s[i]) * (-2 ** i) + 13 * i\n",
    "        \n",
    "    total = abs(total)\n",
    "    return (total // 3) % n\n",
    "\n",
    "\n",
    "def h4(s, n):\n",
    "    total = 0\n",
    "    for i in range(len(s)):\n",
    "        total = total + ord(s[i]) * (-2 ** i) + 3 * i\n",
    "    \n",
    "    total = abs(total)\n",
    "    return str((total // 2) + 1 % n)\n"
   ]
  },
  {
   "cell_type": "code",
   "execution_count": 15,
   "id": "295f8db4",
   "metadata": {},
   "outputs": [],
   "source": [
    "class PerfectHashing():\n",
    "    def __init__(self, keys):\n",
    "        self.keys = keys\n",
    "        \n",
    "        self.n_el = len(keys)\n",
    "        \n",
    "        self.hash_funcs = [h1,h2,h3,h4]\n",
    "        \n",
    "        self.curr_hash_f = None\n",
    "        \n",
    "    def try_hash(self):\n",
    "        #reserve enough place with 2N^2  places\n",
    "        self.hash_table = {}\n",
    "        \n",
    "        self.N_max = 2 * len(keys)**2\n",
    "        rand_hf = self.hash_funcs[random.randint(0,len(self.hash_funcs)-1)]\n",
    "        \n",
    "        print(\"We use hash function -\", rand_hf.__name__)\n",
    "        \n",
    "        collision = False\n",
    "        \n",
    "        for key in self.keys:\n",
    "            h_val = str(rand_hf(key, self.N_max))\n",
    "            if h_val not in self.hash_table:\n",
    "                self.hash_table[h_val] = key\n",
    "            else:\n",
    "                collision = True\n",
    "                break\n",
    "        \n",
    "        if collision:\n",
    "            self.try_hash()\n",
    "        self.curr_hash_f = rand_hf\n",
    "    \n",
    "    def find_key(self, val):\n",
    "        \n",
    "        return self.curr_hash_f(val, self.N_max)\n",
    "        "
   ]
  },
  {
   "cell_type": "code",
   "execution_count": 16,
   "id": "2fdbe9f5",
   "metadata": {},
   "outputs": [
    {
     "name": "stdout",
     "output_type": "stream",
     "text": [
      "We use hash function - h1\n"
     ]
    }
   ],
   "source": [
    "pf = PerfectHashing(keys)\n",
    "\n",
    "pf.try_hash()"
   ]
  },
  {
   "cell_type": "code",
   "execution_count": 28,
   "id": "60271162",
   "metadata": {},
   "outputs": [
    {
     "data": {
      "text/plain": [
       "{'69': 'mama',\n",
       " '54': 'papa',\n",
       " '1': 'stas',\n",
       " '19': 'alena',\n",
       " '5': 'sveta',\n",
       " '34': 'friend'}"
      ]
     },
     "execution_count": 28,
     "metadata": {},
     "output_type": "execute_result"
    }
   ],
   "source": [
    "pf.hash_table"
   ]
  },
  {
   "cell_type": "code",
   "execution_count": null,
   "id": "c89d0954",
   "metadata": {},
   "outputs": [],
   "source": []
  },
  {
   "cell_type": "code",
   "execution_count": null,
   "id": "435d96bd",
   "metadata": {},
   "outputs": [],
   "source": []
  }
 ],
 "metadata": {
  "kernelspec": {
   "display_name": "Python 3 (ipykernel)",
   "language": "python",
   "name": "python3"
  },
  "language_info": {
   "codemirror_mode": {
    "name": "ipython",
    "version": 3
   },
   "file_extension": ".py",
   "mimetype": "text/x-python",
   "name": "python",
   "nbconvert_exporter": "python",
   "pygments_lexer": "ipython3",
   "version": "3.10.6"
  }
 },
 "nbformat": 4,
 "nbformat_minor": 5
}
