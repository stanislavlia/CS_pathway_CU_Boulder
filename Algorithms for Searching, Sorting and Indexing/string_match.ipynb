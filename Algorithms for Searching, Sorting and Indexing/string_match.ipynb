{
 "cells": [
  {
   "cell_type": "code",
   "execution_count": 168,
   "id": "2944d5d3",
   "metadata": {},
   "outputs": [],
   "source": [
    "class StringMatch():\n",
    "    def __init__(self, s, pattern):\n",
    "        self.m = len(pattern)\n",
    "        self.s = s.lower()\n",
    "        self.P = 7919\n",
    "        self.pattern = pattern\n",
    "        \n",
    "        \n",
    "        #we will keep previous first el of substring here\n",
    "        self.prev_l = None\n",
    "        \n",
    "        \n",
    "    def roll_hash_sf(self, s):\n",
    "        \n",
    "        sum_of_for_h = 0\n",
    "        \n",
    "        self.prev_l = s[0]\n",
    "        m = self.m\n",
    "        for l in s:\n",
    "            \n",
    "            sum_of_for_h += self.P ** (m-1) * ord(l)\n",
    "            m -= 1\n",
    "        \n",
    "        return sum_of_for_h % self.m\n",
    "    \n",
    "    def match(self):\n",
    "        #calculate hash value of pattern\n",
    "        pattern_hash_val = self.roll_hash_sf(self.pattern)\n",
    "        \n",
    "        #take first slice and put into roll HF\n",
    "        hash_val = self.roll_hash_sf(self.s[0:self.m])\n",
    "        \n",
    "        #compare 1st subst mannualy\n",
    "        if pattern_hash_val == hash_val and self.pattern == self.s[0:self.m]:\n",
    "            print(\"Found - \", 0)\n",
    "            return 0\n",
    "        \n",
    "        \n",
    "        for i in range(1,len(self.s)-self.m +1):\n",
    "            \n",
    "            \n",
    "            \n",
    "            \n",
    "            curr_slice = self.s[i:i+self.m]\n",
    "            self.prev_l = self.s[i-1]\n",
    "\n",
    "            \n",
    "            hash_val = (self.P * (hash_val - (self.P **(self.m-1)) * ord(self.prev_l)) + ord(curr_slice[-1])) % self.m  \n",
    "            \n",
    "        \n",
    "            if pattern_hash_val == hash_val and self.pattern == curr_slice:\n",
    "                    print(\"Found - \", i)\n",
    "                    return i\n",
    "                \n",
    "            \n",
    "            \n",
    "            \n",
    "            \n",
    "            #print(\"Current slice {} : previous letter : {}\".format(curr_slice, self.s[i-1]))\n",
    "            \n",
    "        \n",
    "        print(\"Not Found\")\n",
    "        return None\n",
    "        \n",
    "        \n",
    "        "
   ]
  },
  {
   "cell_type": "code",
   "execution_count": 174,
   "id": "2ec24494",
   "metadata": {},
   "outputs": [
    {
     "name": "stdout",
     "output_type": "stream",
     "text": [
      "Found -  6\n"
     ]
    },
    {
     "data": {
      "text/plain": [
       "6"
      ]
     },
     "execution_count": 174,
     "metadata": {},
     "output_type": "execute_result"
    }
   ],
   "source": [
    "sm = StringMatch(\"piska tebe v rot\", \"tebe\")\n",
    "sm.match()"
   ]
  },
  {
   "cell_type": "code",
   "execution_count": null,
   "id": "89deaf50",
   "metadata": {},
   "outputs": [],
   "source": []
  },
  {
   "cell_type": "code",
   "execution_count": null,
   "id": "87f15cfe",
   "metadata": {},
   "outputs": [],
   "source": []
  }
 ],
 "metadata": {
  "kernelspec": {
   "display_name": "Python 3 (ipykernel)",
   "language": "python",
   "name": "python3"
  },
  "language_info": {
   "codemirror_mode": {
    "name": "ipython",
    "version": 3
   },
   "file_extension": ".py",
   "mimetype": "text/x-python",
   "name": "python",
   "nbconvert_exporter": "python",
   "pygments_lexer": "ipython3",
   "version": "3.10.6"
  }
 },
 "nbformat": 4,
 "nbformat_minor": 5
}
