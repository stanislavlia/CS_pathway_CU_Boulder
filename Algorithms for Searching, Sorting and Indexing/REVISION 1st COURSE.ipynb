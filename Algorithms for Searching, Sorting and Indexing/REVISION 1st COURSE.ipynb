{
 "cells": [
  {
   "cell_type": "markdown",
   "id": "fdea5088",
   "metadata": {},
   "source": [
    "# Insert Sort"
   ]
  },
  {
   "cell_type": "code",
   "execution_count": 47,
   "id": "c6f43b63",
   "metadata": {},
   "outputs": [],
   "source": [
    "def insert_to_sorted_arr(s_arr, el):\n",
    "    for  i in range(len(s_arr)):\n",
    "        if s_arr[i] > el:\n",
    "            s_arr.insert(i, el)\n",
    "            return\n",
    "\n",
    "    s_arr.append(el)\n",
    "    "
   ]
  },
  {
   "cell_type": "code",
   "execution_count": 48,
   "id": "252ca0e0",
   "metadata": {},
   "outputs": [],
   "source": [
    "def insert_sort(array):\n",
    "    \n",
    "    \n",
    "    \n",
    "    already_sorted = [array[0]] if array else []\n",
    "    \n",
    "    for i in range(1,len(array)):\n",
    "        current_el = array[i]\n",
    "        insert_to_sorted_arr(already_sorted, current_el)\n",
    "        \n",
    "        \n",
    "    return already_sorted\n",
    "    "
   ]
  },
  {
   "cell_type": "markdown",
   "id": "5492ae4a",
   "metadata": {},
   "source": [
    "# Merge Sort"
   ]
  },
  {
   "cell_type": "code",
   "execution_count": 58,
   "id": "71beb1d7",
   "metadata": {},
   "outputs": [],
   "source": [
    "def merging(arr1, arr2):\n",
    "    i = 0\n",
    "    j = 0\n",
    "    \n",
    "    sorted_arr = []\n",
    "    \n",
    "    while i < len(arr1) and j < len(arr2):\n",
    "        if arr1[i] < arr2[j]:\n",
    "            sorted_arr.append(arr1[i])\n",
    "            i += 1\n",
    "        else:\n",
    "            sorted_arr.append(arr2[j])\n",
    "            j += 1\n",
    "    \n",
    "    addition = []\n",
    "    \n",
    "    if i < len(arr1):\n",
    "        addition = arr1[i:]\n",
    "    if j < len(arr2):\n",
    "        addition = arr2[j:]\n",
    "        \n",
    "    return sorted_arr + addition\n",
    "\n",
    "\n",
    "\n",
    "def merge_sort(arr):\n",
    "    if len(arr) <= 1: #Base case 1\n",
    "        return  arr\n",
    "    \n",
    "    if len(arr) == 2:\n",
    "        if arr[0] > arr[1]:\n",
    "            arr[0],arr[1] = arr[1], arr[0]\n",
    "            \n",
    "        return arr\n",
    "    \n",
    "    mid = len(arr)//2\n",
    "    \n",
    "    left_part = arr[:mid]\n",
    "    right_part = arr[mid:]\n",
    "    \n",
    "    result =  merging(merge_sort(left_part),  merge_sort(right_part))\n",
    "    return result"
   ]
  },
  {
   "cell_type": "markdown",
   "id": "91135aae",
   "metadata": {},
   "source": [
    "# Binary Search"
   ]
  },
  {
   "cell_type": "code",
   "execution_count": 78,
   "id": "aaf3ea87",
   "metadata": {},
   "outputs": [],
   "source": [
    "def binary_search(arr,left,right, el):\n",
    "    \n",
    "    mid = (left + right) // 2\n",
    "    \n",
    "    if arr[mid] == el: #Bingo ,we found it\n",
    "        return mid\n",
    "    \n",
    "    if el < arr[mid]:\n",
    "        \n",
    "        return binary_search(arr, left, mid-1, el)\n",
    "    \n",
    "    if el > arr[mid]:\n",
    "        return binary_search(arr,mid+1, right, el)\n",
    "        \n",
    "    "
   ]
  },
  {
   "cell_type": "markdown",
   "id": "4f34d363",
   "metadata": {},
   "source": [
    "# WEEK 2  : HEAPS"
   ]
  },
  {
   "cell_type": "code",
   "execution_count": 31,
   "id": "9bc37148",
   "metadata": {},
   "outputs": [
    {
     "data": {
      "text/plain": [
       "[(1, 'Fill in the docs'),\n",
       " (1, 'make a gift'),\n",
       " (7, 'Listen to music'),\n",
       " (4, 'Do homework')]"
      ]
     },
     "execution_count": 31,
     "metadata": {},
     "output_type": "execute_result"
    }
   ],
   "source": [
    "\n",
    "\n",
    "class MinHeap():\n",
    "    def __init__(self, heap=[]):\n",
    "        self.H = heap\n",
    "        \n",
    "    def buble_up(self, i):\n",
    "        \n",
    "        #potential parent\n",
    "        parent_i = i // 2\n",
    "        \n",
    "        if self.H[i] < self.H[parent_i]:\n",
    "            self.H[i], self.H[parent_i] = self.H[parent_i], self.H[i]\n",
    "            self.buble_up(parent_i)\n",
    "            \n",
    "    \n",
    "    def insert(self, el):\n",
    "        #add to the end\n",
    "        \n",
    "        self.H.append(el)\n",
    "        i_of_end = len(self.H) - 1\n",
    "        self.buble_up(i_of_end)\n",
    "        \n",
    "        \n",
    "    def buble_down(self,i):\n",
    "        left_c = 2*i + 1\n",
    "        right_c = left_c + 1\n",
    "        \n",
    "        print(left_c,right_c)\n",
    "        \n",
    "        if left_c >= len(self.H):#no children, nothing to do\n",
    "           \n",
    "            return \n",
    "        \n",
    "        if left_c < len(self.H) and right_c == len(self.H):#only left child\n",
    "            \n",
    "            if self.H[left_c] < self.H[i]:\n",
    "                self.H[left_c],self.H[i] = self.H[i],self.H[left_c]\n",
    "                \n",
    "            return\n",
    "            \n",
    "        else: #have both\n",
    "            \n",
    "            \n",
    "            if self.H[left_c] < self.H[right_c]:\n",
    "                self.H[i],self.H[left_c] = self.H[left_c],self.H[i]\n",
    "                self.buble_down(left_c)\n",
    "            else:\n",
    "                self.H[i],self.H[right_c] = self.H[right_c],self.H[i]\n",
    "                self.buble_down(right_c)\n",
    "            \n",
    "        \n",
    "            \n",
    "                \n",
    "        \n",
    "    def delete(self, i):\n",
    "            \n",
    "            if i >= len(self.H):\n",
    "                return\n",
    "            \n",
    "            \n",
    "            #replace with last el\n",
    "            self.H[i], self.H[-1] = self.H[-1],self.H[i]\n",
    "            \n",
    "            self.H.pop() #drop last el\n",
    "            \n",
    "            self.buble_down(i)\n",
    "            \n",
    "            \n",
    "    def heapify(self):\n",
    "        end_i = len(self.H) \n",
    "        mid_i = end_i // 2 \n",
    "        \n",
    "        for i in range(mid_i-1, -1 , -1):\n",
    "            if self.H[i] > self.H[2*i + 1] or self.H[i] > self.H[2*i + 2]:\n",
    "            \n",
    "                self.buble_down(i)\n",
    "                \n",
    "    \n",
    "        \n",
    "        \n",
    "        \n",
    "            \n",
    "\n",
    "            \n",
    "            \n",
    "mh = MinHeap([(4, \"Do homework\")])\n",
    "\n",
    "mh.heapify()\n",
    "\n",
    "mh.insert((7,\"Listen to music\"))\n",
    "\n",
    "mh.insert((1, \"Fill in the docs\"))\n",
    "\n",
    "\n",
    "mh.insert((1, \"make a gift\"))\n",
    "\n"
   ]
  },
  {
   "cell_type": "markdown",
   "id": "436ffcf5",
   "metadata": {},
   "source": [
    "# WEEK 3 QuickSOrt"
   ]
  },
  {
   "cell_type": "code",
   "execution_count": 43,
   "id": "116c2aaf",
   "metadata": {},
   "outputs": [],
   "source": [
    "\n",
    "def lamuto_partition(arr): #last el - pivot\n",
    "    \n",
    "    \n",
    "    \n",
    "    if not arr:\n",
    "        return\n",
    "    \n",
    "    i = -1\n",
    "    j = 0\n",
    "    pivot = arr[-1]\n",
    "    \n",
    "    \n",
    "    while j < len(arr)-1:\n",
    "        if arr[j] <= pivot:\n",
    "            arr[j], arr[i+1] = arr[i+1], arr[j]\n",
    "            i += 1\n",
    "            j += 1\n",
    "        else:\n",
    "            j += 1\n",
    "    \n",
    "    arr[-1], arr[i+1] = arr[i+1],arr[-1]\n",
    "    \n",
    "    return i + 1\n",
    "\n",
    "    \n",
    "    \n",
    "\n",
    "\n",
    "\n",
    "    \n",
    "def quick_sort(arr):\n",
    "    #base case\n",
    "    \n",
    "    if len(arr) < 2:\n",
    "        return arr\n",
    "    \n",
    "    if len(arr) == 2:\n",
    "        if arr[0] > arr[1]:\n",
    "            arr[0],arr[1] = arr[1],arr[0]\n",
    "    \n",
    "    \n",
    "    \n",
    "    \n",
    "    x = lamuto_partition(arr)\n",
    "    left_part = quick_sort(arr[:x])\n",
    "    right_part = quick_sort(arr[x+1:])\n",
    "    \n",
    "    return  left_part + [arr[x]] + right_part\n"
   ]
  },
  {
   "cell_type": "code",
   "execution_count": 52,
   "id": "f78648b9",
   "metadata": {},
   "outputs": [],
   "source": [
    "arr = [9, 4, 5, -2, 5 , 0 , 120, 3 , 6 ,7]\n",
    "\n"
   ]
  },
  {
   "cell_type": "code",
   "execution_count": 53,
   "id": "1a084ef9",
   "metadata": {},
   "outputs": [
    {
     "data": {
      "text/plain": [
       "[-2, 0, 3, 4, 5, 5, 6, 7, 9, 120]"
      ]
     },
     "execution_count": 53,
     "metadata": {},
     "output_type": "execute_result"
    }
   ],
   "source": [
    "quick_sort(arr)"
   ]
  },
  {
   "cell_type": "code",
   "execution_count": null,
   "id": "9e1a255c",
   "metadata": {},
   "outputs": [],
   "source": []
  }
 ],
 "metadata": {
  "kernelspec": {
   "display_name": "Python 3 (ipykernel)",
   "language": "python",
   "name": "python3"
  },
  "language_info": {
   "codemirror_mode": {
    "name": "ipython",
    "version": 3
   },
   "file_extension": ".py",
   "mimetype": "text/x-python",
   "name": "python",
   "nbconvert_exporter": "python",
   "pygments_lexer": "ipython3",
   "version": "3.10.6"
  }
 },
 "nbformat": 4,
 "nbformat_minor": 5
}
