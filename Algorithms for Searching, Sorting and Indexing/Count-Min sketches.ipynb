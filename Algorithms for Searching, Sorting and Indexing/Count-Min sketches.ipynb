{
 "cells": [
  {
   "cell_type": "code",
   "execution_count": 2,
   "id": "0409cb58",
   "metadata": {},
   "outputs": [],
   "source": [
    "#lets say, we know, that we have 50 words total\n",
    "# We want to guarantee with proba = 0.9 that difference less than Epsilon*W"
   ]
  },
  {
   "cell_type": "code",
   "execution_count": 92,
   "id": "a76e11e9",
   "metadata": {},
   "outputs": [],
   "source": [
    "\n",
    "\n",
    "eps = 0.1\n",
    "W = 50\n",
    "P = 0.9\n",
    "\n",
    "m = int(2.71/0.1)\n",
    "k = 3\n",
    "\n",
    "def h1(s,n):\n",
    "    \n",
    "    total = 0\n",
    "    for i in range(len(s)):\n",
    "        total = total + ord(s[i]) * (-2 ** i)\n",
    "        \n",
    "    return total % n\n",
    "\n",
    "    \n",
    "def h2(s, n):\n",
    "    total = 0\n",
    "    for i in range(len(s)):\n",
    "        total = total + ord(s[i]) * (-2 ** i)\n",
    "        \n",
    "    return (total // 2) % n\n",
    "\n",
    "\n",
    "\n",
    "    \n",
    "def h3(s, n):\n",
    "    total = 0\n",
    "    for i in range(len(s)):\n",
    "        total = total + ord(s[i]) * (-2 ** i) + 13 * i\n",
    "        \n",
    "    total = abs(total)\n",
    "    return (total // 3) % n\n",
    "\n",
    "\n"
   ]
  },
  {
   "cell_type": "code",
   "execution_count": 93,
   "id": "29fb8bee",
   "metadata": {},
   "outputs": [],
   "source": [
    "class CountMinSketches():\n",
    "    def __init__(self):\n",
    "        self.eps = 0.1\n",
    "        self.W = 50\n",
    "        self.P = 0.9\n",
    "        self.m = int(2.71/0.1)\n",
    "        self.k = 3\n",
    "        \n",
    "        \n",
    "        self.C1 = [0 for i in range(m)]\n",
    "        self.C2 = [0 for i in range(m)]\n",
    "        self.C3 = [0 for i in range(m)]\n",
    "        \n",
    "        \n",
    "    \n",
    "    def count_el(self, el):\n",
    "        el = el.lower()\n",
    "        self.C1[h1(el, self.m)] += 1\n",
    "        self.C2[h2(el, self.m)] += 1\n",
    "        self.C3[h3(el, self.m)] += 1\n",
    "        \n",
    "        \n",
    "    def get_amount(self, el):\n",
    "        el = el.lower()\n",
    "        \n",
    "        val1 = self.C1[h1(el, self.m)]\n",
    "        val2 = self.C2[h2(el, self.m)]        \n",
    "        val3 = self.C3[h3(el, self.m)]\n",
    "        \n",
    "        return min(val1,val2, val3)\n",
    "\n",
    "        \n",
    "    "
   ]
  },
  {
   "cell_type": "code",
   "execution_count": 108,
   "id": "2bc4c300",
   "metadata": {},
   "outputs": [
    {
     "data": {
      "text/plain": [
       "['do',\n",
       " 'girlfriend',\n",
       " 'to',\n",
       " 'enemy',\n",
       " 'not',\n",
       " 'grandma',\n",
       " 'from',\n",
       " 'Love',\n",
       " 'happiness',\n",
       " 'mama',\n",
       " 'people',\n",
       " 'exatly',\n",
       " 'prevent',\n",
       " 'happy.',\n",
       " 'how',\n",
       " 'know',\n",
       " 'We',\n",
       " 'is',\n",
       " 'mother',\n",
       " 'love',\n",
       " 'hate',\n",
       " 'what',\n",
       " 'makes',\n",
       " 'papa']"
      ]
     },
     "execution_count": 108,
     "metadata": {},
     "output_type": "execute_result"
    }
   ],
   "source": [
    "import random\n",
    "\n",
    "sentence = \"Love is exatly what makes people happy. We do not know how to prevent people from love\"\n",
    "\n",
    "words = sentence.split()\n",
    "\n",
    "\n",
    "uniq_words = [\"papa\",\"mama\", \"grandma\", \"girlfriend\", \n",
    "              \"love\",\"happiness\",\"hate\",\"enemy\",\"mother\"]\n",
    "\n",
    "words += uniq_words\n",
    "words = list(set(words))\n",
    "\n",
    "\n",
    "\n",
    "bunch_of_words = [words[random.randint(0,23)] for i in range(70)]\n",
    "\n",
    "\n",
    "words\n"
   ]
  },
  {
   "cell_type": "code",
   "execution_count": 109,
   "id": "2e138db5",
   "metadata": {},
   "outputs": [
    {
     "data": {
      "text/plain": [
       "24"
      ]
     },
     "execution_count": 109,
     "metadata": {},
     "output_type": "execute_result"
    }
   ],
   "source": [
    "len(words)"
   ]
  },
  {
   "cell_type": "code",
   "execution_count": 110,
   "id": "f9d3c3a9",
   "metadata": {},
   "outputs": [],
   "source": [
    "cms = CountMinSketches()\n",
    "\n",
    "\n",
    "\n",
    "#counting each el\n",
    "\n",
    "for word in bunch_of_words:\n",
    "    cms.count_el(word)\n",
    "    \n",
    "    "
   ]
  },
  {
   "cell_type": "code",
   "execution_count": 111,
   "id": "e4a76ccc",
   "metadata": {},
   "outputs": [
    {
     "name": "stdout",
     "output_type": "stream",
     "text": [
      "3 3\n",
      "4 4\n",
      "1 1\n",
      "7 6\n",
      "1 1\n",
      "2 2\n",
      "6 5\n",
      "5 1\n",
      "9 9\n",
      "1 1\n",
      "2 2\n",
      "4 4\n",
      "6 6\n",
      "2 2\n",
      "3 2\n",
      "4 4\n",
      "0 0\n",
      "4 4\n",
      "1 1\n",
      "5 4\n",
      "2 1\n",
      "6 2\n",
      "3 3\n",
      "2 2\n"
     ]
    }
   ],
   "source": [
    "for word in words:\n",
    "    \n",
    "    print(cms.get_amount(word), bunch_of_words.count(word))"
   ]
  },
  {
   "cell_type": "code",
   "execution_count": null,
   "id": "28407993",
   "metadata": {},
   "outputs": [],
   "source": []
  },
  {
   "cell_type": "code",
   "execution_count": null,
   "id": "fdb37fe9",
   "metadata": {},
   "outputs": [],
   "source": []
  }
 ],
 "metadata": {
  "kernelspec": {
   "display_name": "Python 3 (ipykernel)",
   "language": "python",
   "name": "python3"
  },
  "language_info": {
   "codemirror_mode": {
    "name": "ipython",
    "version": 3
   },
   "file_extension": ".py",
   "mimetype": "text/x-python",
   "name": "python",
   "nbconvert_exporter": "python",
   "pygments_lexer": "ipython3",
   "version": "3.10.6"
  }
 },
 "nbformat": 4,
 "nbformat_minor": 5
}
