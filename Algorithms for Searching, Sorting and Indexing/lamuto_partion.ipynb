{
 "cells": [
  {
   "cell_type": "code",
   "execution_count": 6,
   "id": "77e8d221",
   "metadata": {},
   "outputs": [
    {
     "data": {
      "text/plain": [
       "[3, 1, 4, 2, 5, 8, 10, 9, 7]"
      ]
     },
     "execution_count": 6,
     "metadata": {},
     "output_type": "execute_result"
    }
   ],
   "source": [
    "\n",
    "\n",
    "def partition(A):\n",
    "    x = A[-1]\n",
    "    \n",
    "    i = -1\n",
    "    j = 0\n",
    "    \n",
    "    for _ in range(len(A) - 1):\n",
    "        if A[j] < x:\n",
    "            A[i+1], A[j] = A[j],A[i+1]\n",
    "            j += 1\n",
    "            i += 1\n",
    "            \n",
    "        else:\n",
    "            j += 1\n",
    "            \n",
    "    A[i+1],A[-1] = A[-1],A[i+1]\n",
    "    \n",
    "            \n",
    "    return A\n",
    "\n",
    "a = [3,1,7,8,4,2,10,9,5]\n",
    "\n",
    "partition(a)\n",
    "            \n",
    "            \n",
    "            \n"
   ]
  },
  {
   "cell_type": "code",
   "execution_count": null,
   "id": "fb095075",
   "metadata": {},
   "outputs": [],
   "source": []
  }
 ],
 "metadata": {
  "kernelspec": {
   "display_name": "Python 3 (ipykernel)",
   "language": "python",
   "name": "python3"
  },
  "language_info": {
   "codemirror_mode": {
    "name": "ipython",
    "version": 3
   },
   "file_extension": ".py",
   "mimetype": "text/x-python",
   "name": "python",
   "nbconvert_exporter": "python",
   "pygments_lexer": "ipython3",
   "version": "3.10.6"
  }
 },
 "nbformat": 4,
 "nbformat_minor": 5
}
