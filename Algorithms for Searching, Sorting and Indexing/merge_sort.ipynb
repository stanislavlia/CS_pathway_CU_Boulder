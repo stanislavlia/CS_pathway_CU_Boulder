{
 "cells": [
  {
   "cell_type": "code",
   "execution_count": 5,
   "id": "adf4b15c",
   "metadata": {},
   "outputs": [],
   "source": [
    "\n",
    "\n",
    "\n",
    "\n",
    "def merge(A,B): #A,B - sorted arrays\n",
    "    i = 0\n",
    "    j = 0\n",
    "    \n",
    "    merged = []\n",
    "    \n",
    "    while i < len(A) and j < len(B):\n",
    "        if A[i] < B[j]:\n",
    "            merged.append(A[i])\n",
    "            i += 1\n",
    "            \n",
    "        else:\n",
    "            merged.append(B[j])\n",
    "            j += 1\n",
    "            \n",
    "    if i < len(A):\n",
    "        merged = merged + A[i:]\n",
    "            \n",
    "    if j < len(B):\n",
    "        merged = merged + B[j:]\n",
    "    \n",
    "    \n",
    "    return merged"
   ]
  },
  {
   "cell_type": "code",
   "execution_count": 14,
   "id": "87b0107f",
   "metadata": {},
   "outputs": [
    {
     "data": {
      "text/plain": [
       "[-100, -12, -11, -2, 1, 4, 10, 11, 22, 56, 100]"
      ]
     },
     "execution_count": 14,
     "metadata": {},
     "output_type": "execute_result"
    }
   ],
   "source": [
    "merge([-2,4, 56,100], [-100,-12, -11, 1,10,11,22])"
   ]
  },
  {
   "cell_type": "code",
   "execution_count": 23,
   "id": "620ddb3b",
   "metadata": {},
   "outputs": [],
   "source": [
    "\n",
    "def merge_sort(array):\n",
    "    if len(array) == 1:\n",
    "        return array\n",
    "    \n",
    "    if len(array) == 2:\n",
    "        if array[0] > array[1]:\n",
    "            array[0], array[1] = array[1], array[0]\n",
    "            return array\n",
    "        return array\n",
    "    \n",
    "    mid = (len(array))//2\n",
    "    \n",
    "    first_half = merge_sort(array[:mid])\n",
    "    second_half = merge_sort(array[mid:])\n",
    "    \n",
    "    return merge(first_half, second_half)\n",
    "   \n",
    "    \n",
    "    "
   ]
  },
  {
   "cell_type": "code",
   "execution_count": 32,
   "id": "37a6e9dd",
   "metadata": {},
   "outputs": [
    {
     "data": {
      "text/plain": [
       "[-20, 4, 4, 4, 5]"
      ]
     },
     "execution_count": 32,
     "metadata": {},
     "output_type": "execute_result"
    }
   ],
   "source": [
    "merge_sort([4-24,5,4,4,4])"
   ]
  },
  {
   "cell_type": "code",
   "execution_count": null,
   "id": "a3f8a5bd",
   "metadata": {},
   "outputs": [],
   "source": []
  }
 ],
 "metadata": {
  "kernelspec": {
   "display_name": "Python 3 (ipykernel)",
   "language": "python",
   "name": "python3"
  },
  "language_info": {
   "codemirror_mode": {
    "name": "ipython",
    "version": 3
   },
   "file_extension": ".py",
   "mimetype": "text/x-python",
   "name": "python",
   "nbconvert_exporter": "python",
   "pygments_lexer": "ipython3",
   "version": "3.10.6"
  }
 },
 "nbformat": 4,
 "nbformat_minor": 5
}
