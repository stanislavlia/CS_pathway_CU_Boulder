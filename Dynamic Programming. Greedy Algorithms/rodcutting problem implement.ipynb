{
 "cells": [
  {
   "cell_type": "code",
   "execution_count": 47,
   "id": "a019030f",
   "metadata": {},
   "outputs": [
    {
     "data": {
      "text/plain": [
       "[0,\n",
       " 0,\n",
       " 0,\n",
       " 1.8,\n",
       " 2.2,\n",
       " 2.2,\n",
       " 3.6,\n",
       " 4.0,\n",
       " 4.4,\n",
       " 5.4,\n",
       " 5.800000000000001,\n",
       " 6.2,\n",
       " 7.2,\n",
       " 7.6000000000000005]"
      ]
     },
     "execution_count": 47,
     "metadata": {},
     "output_type": "execute_result"
    }
   ],
   "source": [
    "\n",
    "class MemoTable():\n",
    "    def __init__(self, size):\n",
    "        self.table = [0] * (size+1)\n",
    "    \n",
    "    def add(self,i ,el):\n",
    "        self.table[i] = el\n",
    "        \n",
    "    def get(self,i):\n",
    "        if i < 0:\n",
    "            return float(\"-INF\")\n",
    "        \n",
    "        return self.table[i]\n",
    "        \n",
    "    \n",
    "    \n",
    " \n",
    " \n",
    "\n",
    "\n",
    "\n",
    "\n",
    "\n",
    "class RodCut(): #WORKS, but for Fixed Parameters\n",
    "    def __init__(self, L):\n",
    "        self.L = L\n",
    "        #elf.price_table = price_table\n",
    "        \n",
    "        self.max_rev = MemoTable(L)\n",
    "        self.local_best_decision = [0] * (L+1)\n",
    "        \n",
    "        \n",
    "    \n",
    "        \n",
    "    def filling_memo_table(self):\n",
    "        \n",
    "        for i in range(self.L+1):\n",
    "            \n",
    "            #finding max\n",
    "            most_rev = 0\n",
    "            decision = \"w\"\n",
    "            \n",
    "            if  1.8 + self.max_rev.get(i - 3) > most_rev: #Make price FIXED         3m = 1.8$  , 4m = 2.1$        \n",
    "\n",
    "                \n",
    "                most_rev = 1.8 + self.max_rev.get(i - 3)\n",
    "                decision = \"3\"\n",
    "                \n",
    "            if 2.2 + self.max_rev.get(i-4) > most_rev:\n",
    "                \n",
    "                most_rev = 2.2 + self.max_rev.get(i-4)\n",
    "                decision = \"4\"\n",
    "                \n",
    "            self.max_rev.add(i, most_rev)\n",
    "            self.local_best_decision[i] = decision\n",
    "        \n",
    "    \n",
    "    def recover_solution(self, decisions):\n",
    "        \n",
    "        current_i = len(decisions) - 1\n",
    "        \n",
    "        solution = decisions[current_i]\n",
    "        \n",
    "        \n",
    "        while decisions[current_i] != \"w\" and current_i - int(decisions[current_i]) >= 0:\n",
    "            current_i = current_i - int(decisions[current_i])\n",
    "            solution += decisions[current_i]\n",
    "            \n",
    "            \n",
    "        return solution\n",
    "    \n",
    "    def get_max_revenue(self):\n",
    "        \n",
    "        return self.max_rev.get(self.L)    \n",
    "    \n",
    "        \n",
    "        \n",
    "        \n",
    "        \n",
    "        \n",
    "        \n",
    "            \n",
    "            \n",
    "            \n",
    "        \n",
    "        \n",
    "rc = RodCut(13)\n",
    "rc.filling_memo_table()\n",
    "\n",
    "rc.max_rev.table\n",
    "\n"
   ]
  },
  {
   "cell_type": "code",
   "execution_count": 48,
   "id": "cec06bf9",
   "metadata": {},
   "outputs": [
    {
     "data": {
      "text/plain": [
       "7.6000000000000005"
      ]
     },
     "execution_count": 48,
     "metadata": {},
     "output_type": "execute_result"
    }
   ],
   "source": [
    "rc.get_max_revenue()"
   ]
  },
  {
   "cell_type": "code",
   "execution_count": 49,
   "id": "ee089d74",
   "metadata": {},
   "outputs": [
    {
     "data": {
      "text/plain": [
       "[0, 0, 13, 0, 0, 0, 0, 0, 0, 0, 0, 0, 0]"
      ]
     },
     "execution_count": 49,
     "metadata": {},
     "output_type": "execute_result"
    }
   ],
   "source": [
    "mt = MemoTable(12)\n",
    "\n",
    "mt.add(0,0)\n",
    "mt.add(1,0)\n",
    "mt.add(2, 13)\n",
    "\n",
    "mt.table"
   ]
  },
  {
   "cell_type": "code",
   "execution_count": 50,
   "id": "5923e379",
   "metadata": {},
   "outputs": [
    {
     "data": {
      "text/plain": [
       "'3433w'"
      ]
     },
     "execution_count": 50,
     "metadata": {},
     "output_type": "execute_result"
    }
   ],
   "source": [
    "rc.recover_solution(rc.local_best_decision)"
   ]
  },
  {
   "cell_type": "code",
   "execution_count": null,
   "id": "db8de063",
   "metadata": {},
   "outputs": [],
   "source": []
  }
 ],
 "metadata": {
  "kernelspec": {
   "display_name": "Python 3 (ipykernel)",
   "language": "python",
   "name": "python3"
  },
  "language_info": {
   "codemirror_mode": {
    "name": "ipython",
    "version": 3
   },
   "file_extension": ".py",
   "mimetype": "text/x-python",
   "name": "python",
   "nbconvert_exporter": "python",
   "pygments_lexer": "ipython3",
   "version": "3.10.6"
  }
 },
 "nbformat": 4,
 "nbformat_minor": 5
}
