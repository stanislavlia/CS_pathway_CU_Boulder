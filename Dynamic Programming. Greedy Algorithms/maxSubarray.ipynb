{
 "cells": [
  {
   "cell_type": "code",
   "execution_count": 74,
   "id": "f73e6ec4",
   "metadata": {},
   "outputs": [],
   "source": [
    "\n",
    "a1 = [0, -4,100, 5, 12, 90]\n",
    "\n",
    "\n",
    "\n",
    "def min_of_sub(A, l , r):\n",
    "    \n",
    "    result = float(\"+INF\")\n",
    "    \n",
    "    if l == r:\n",
    "        return A[l]\n",
    "    \n",
    "    for i in range(l, r+1):\n",
    "        result = min(A[i], result)\n",
    "        \n",
    "    return result\n",
    "\n",
    "def max_of_sub(A, l , r):\n",
    "    \n",
    "    result = float(\"-INF\")\n",
    "    \n",
    "    if l == r:\n",
    "        return A[l]\n",
    "    \n",
    "    for i in range(l, r+1):\n",
    "        result = max(A[i], result)\n",
    "        \n",
    "    return result\n",
    "\n",
    "\n",
    "\n",
    "\n",
    "def maxsubarray(A, l, r):\n",
    "    #BASE CASE\n",
    "    if l == r:\n",
    "        print(\"Case\")\n",
    "        return 0\n",
    "        \n",
    "    \n",
    "    if l+1 == r:\n",
    "        return max(0, A[r] - A[l])\n",
    "    \n",
    "    \n",
    "    #RECURSIVE CASE\n",
    "    \n",
    "    mid = (l+r) // 2\n",
    "    \n",
    "    \n",
    "    m1 = maxsubarray(A,l, mid)\n",
    "    m2 = maxsubarray(A,mid+1, r)\n",
    "    \n",
    "    print(A[mid:r] , A[l:mid])\n",
    "    m3 = max_of_sub(A,mid+1, r) - min_of_sub(A, l,mid)\n",
    "    \n",
    "    \n",
    "    \n",
    "    return max(m1,m2,m3)\n",
    "\n",
    "\n",
    "    "
   ]
  },
  {
   "cell_type": "code",
   "execution_count": 75,
   "id": "9fc1c4be",
   "metadata": {},
   "outputs": [
    {
     "name": "stdout",
     "output_type": "stream",
     "text": [
      "Case\n",
      "[-4] [0]\n",
      "[100, 5] [0, -4]\n"
     ]
    },
    {
     "data": {
      "text/plain": [
       "104"
      ]
     },
     "execution_count": 75,
     "metadata": {},
     "output_type": "execute_result"
    }
   ],
   "source": [
    "maxsubarray(a1,0, 4)"
   ]
  },
  {
   "cell_type": "code",
   "execution_count": 76,
   "id": "aeae417c",
   "metadata": {},
   "outputs": [
    {
     "data": {
      "text/plain": [
       "5"
      ]
     },
     "execution_count": 76,
     "metadata": {},
     "output_type": "execute_result"
    }
   ],
   "source": [
    "max_of_sub([1,2,3,2,4,5], 0, 5)"
   ]
  },
  {
   "cell_type": "code",
   "execution_count": null,
   "id": "32f911e5",
   "metadata": {},
   "outputs": [],
   "source": []
  }
 ],
 "metadata": {
  "kernelspec": {
   "display_name": "Python 3 (ipykernel)",
   "language": "python",
   "name": "python3"
  },
  "language_info": {
   "codemirror_mode": {
    "name": "ipython",
    "version": 3
   },
   "file_extension": ".py",
   "mimetype": "text/x-python",
   "name": "python",
   "nbconvert_exporter": "python",
   "pygments_lexer": "ipython3",
   "version": "3.10.6"
  }
 },
 "nbformat": 4,
 "nbformat_minor": 5
}
