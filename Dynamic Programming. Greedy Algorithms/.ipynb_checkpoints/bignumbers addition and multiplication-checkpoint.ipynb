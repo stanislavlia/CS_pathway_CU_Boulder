{
 "cells": [
  {
   "cell_type": "markdown",
   "id": "d39c9670",
   "metadata": {},
   "source": [
    "### Adding arbitraly large  binary numbers"
   ]
  },
  {
   "cell_type": "code",
   "execution_count": 85,
   "id": "4d4c5c88",
   "metadata": {},
   "outputs": [],
   "source": [
    "\n",
    "\n",
    "\n",
    "def equal_size(A : list,B : list): #byte string\n",
    "    la = len(A)\n",
    "    lb = len(B)\n",
    "    \n",
    "    if la == lb:\n",
    "        return A,B\n",
    "    \n",
    "    if la > lb:\n",
    "        dif = la - lb\n",
    "        new_B = B + [0 for i in range(dif)]\n",
    "        \n",
    "        return A, new_B\n",
    "        \n",
    "    else:\n",
    "        dif = lb - la\n",
    "        new_A = A + [0 for i in range(dif)]\n",
    "        \n",
    "        return new_A, B\n",
    "    \n",
    "    \n",
    "    \n",
    "\n",
    "def bitwise_add(ai, bi, ci): #(result, carry)\n",
    "    if ai == 0:\n",
    "        if bi == 0:\n",
    "            return (ci,0)\n",
    "        else: \n",
    "            return (1-ci, ci)\n",
    "        \n",
    "    else: #ai == 1\n",
    "        if bi == 0:\n",
    "            return (1-ci, ci)\n",
    "        else:\n",
    "            return (ci,1)\n",
    "        \n",
    "        \n",
    "def add(a, b): #return array with REVERSED number\n",
    "    \n",
    "    \n",
    "    c = []\n",
    "    \n",
    "    carry = 0\n",
    "    for i in range(max(len(a), len(b))):\n",
    "        ai = a[i] if i < len(a) else 0\n",
    "        bi = b[i] if i < len(b) else 0\n",
    "                   \n",
    "                   \n",
    "                   \n",
    "        ci, carry = bitwise_add(ai, bi, carry)\n",
    "        c.append(ci)\n",
    "        \n",
    "    if carry==1:\n",
    "        c.append(carry)\n",
    "            \n",
    "    return c\n",
    "\n",
    "\n",
    "\n",
    "def subtract(a,b):#return array with REVERSED number\n",
    "    \n",
    "\n",
    "    \n",
    "    diff = len(a) - len(b)\n",
    "    \n",
    "    b_1com =  [1-el for el in b] + [1]*diff \n",
    "    b_2com = add(b_1com, [1])\n",
    "    \n",
    "\n",
    "    res = add(a, b_2com)\n",
    "    \n",
    "    \n",
    "    return res[0:len(a)]\n",
    "\n",
    "\n",
    "\n",
    "\n",
    "def pad(a,k):\n",
    "    return [0] * k + a\n",
    "    \n",
    "    \n",
    "    \n",
    "def grade_school_multiply(a, b):\n",
    "    n, m = len(a), len(b)\n",
    "    tmp = a\n",
    "    res = [0]\n",
    "    for bit in b:\n",
    "        if bit == 1:\n",
    "            res = add(res, tmp)\n",
    "        tmp = [0]+tmp # shift tmp\n",
    "    return res "
   ]
  },
  {
   "cell_type": "code",
   "execution_count": 88,
   "id": "bca7174d",
   "metadata": {},
   "outputs": [
    {
     "data": {
      "text/plain": [
       "[0, 0, 0, 1, 1, 1, 1]"
      ]
     },
     "execution_count": 88,
     "metadata": {},
     "output_type": "execute_result"
    }
   ],
   "source": [
    "\n",
    "\n",
    "def multiply(a,b):\n",
    "    \n",
    "    if len(a) <= 2 or len(b) <= 2:\n",
    "        # revert to grade school multiplication\n",
    "        return grade_school_multiply(a, b)\n",
    "    \n",
    "    mid_a = len(a)//2\n",
    "    mid_b = len(b) // 2\n",
    "    \n",
    "    a1,a2 = a[0:mid_a], a[mid_a:]\n",
    "    b1, b2 = b[0:mid_b], b[mid_b:]\n",
    "        \n",
    "    r1 = multiply(a1,b1)\n",
    "    r2 = multiply(add(a1,a2), add(b1,b2))\n",
    "    r3 = multiply(a2,b2)\n",
    "    \n",
    "    #subtraction\n",
    "    \n",
    "    r2 =  subtract(r2 , add(r1, r3))\n",
    "    \n",
    "    #padding\n",
    "    \n",
    "    s1 = pad(r3, 2*mid_a)\n",
    "    s2 = pad(r2, mid_a)\n",
    "    s3 = add(s1,s2)\n",
    "    \n",
    "    return add(s3,r1)\n",
    "    \n",
    "    \n",
    "multiply([0,0,0,1], [1,1,1,1])"
   ]
  },
  {
   "cell_type": "code",
   "execution_count": 90,
   "id": "906060a5",
   "metadata": {},
   "outputs": [
    {
     "name": "stdout",
     "output_type": "stream",
     "text": [
      "[0, 0, 0, 1, 0, 0, 1]\n",
      "[0, 0, 1, 0, 1]\n"
     ]
    }
   ],
   "source": [
    "print(multiply([0, 0, 0, 1], [1, 0, 1])) # should be 0, 0, 0, 1, 0, 1\n",
    "print(multiply([0, 0, 1], [1, 0, 1])) # should be 0, 0, 1, 0 , 1"
   ]
  },
  {
   "cell_type": "code",
   "execution_count": null,
   "id": "72d2e914",
   "metadata": {},
   "outputs": [],
   "source": []
  }
 ],
 "metadata": {
  "kernelspec": {
   "display_name": "Python 3 (ipykernel)",
   "language": "python",
   "name": "python3"
  },
  "language_info": {
   "codemirror_mode": {
    "name": "ipython",
    "version": 3
   },
   "file_extension": ".py",
   "mimetype": "text/x-python",
   "name": "python",
   "nbconvert_exporter": "python",
   "pygments_lexer": "ipython3",
   "version": "3.10.6"
  }
 },
 "nbformat": 4,
 "nbformat_minor": 5
}
