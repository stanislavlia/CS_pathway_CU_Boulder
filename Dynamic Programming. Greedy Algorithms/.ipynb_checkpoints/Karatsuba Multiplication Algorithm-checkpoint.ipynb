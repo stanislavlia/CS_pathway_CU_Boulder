{
 "cells": [
  {
   "cell_type": "code",
   "execution_count": 1,
   "id": "purple-flooring",
   "metadata": {
    "colab": {
     "base_uri": "https://localhost:8080/"
    },
    "executionInfo": {
     "elapsed": 4339,
     "status": "ok",
     "timestamp": 1622481487356,
     "user": {
      "displayName": "Sriram Sankaranarayanan",
      "photoUrl": "",
      "userId": "12264367605776763929"
     },
     "user_tz": 360
    },
    "id": "purple-flooring",
    "outputId": "581c5d98-89b4-41ff-fbda-cdcb893489b5"
   },
   "outputs": [
    {
     "name": "stdout",
     "output_type": "stream",
     "text": [
      "Defaulting to user installation because normal site-packages is not writeable\n",
      "Collecting ipython-autotime\n",
      "  Downloading ipython_autotime-0.3.1-py2.py3-none-any.whl (6.8 kB)\n",
      "Requirement already satisfied: ipython in /usr/lib/python3/dist-packages (from ipython-autotime) (7.31.1)\n",
      "Installing collected packages: ipython-autotime\n",
      "Successfully installed ipython-autotime-0.3.1\n",
      "time: 797 µs (started: 2023-03-08 19:03:37 +03:00)\n"
     ]
    }
   ],
   "source": [
    "try:\n",
    "    %load_ext autotime\n",
    "except:\n",
    "    !pip install ipython-autotime\n",
    "    %load_ext autotime"
   ]
  },
  {
   "cell_type": "markdown",
   "id": "functional-ethics",
   "metadata": {
    "id": "functional-ethics"
   },
   "source": [
    "## Bitwise representation of numbers \n",
    "\n",
    "We will represent numbers in binary as a sequence of 1s and 0s.\n",
    "Recall  the basics of converting decimal numbers into binary and vice versa. \n",
    "\n",
    "### Example\n",
    "The number 5 in decimal is written as $101$ in binary:\n",
    "$5_{10} = 101_2 $ \n",
    "\n",
    "\n",
    "| Decimal | Binary |\n",
    "|---|---|\n",
    "| 5 | 101 |\n",
    "| 12 | 1100 |\n",
    "| 16 | 10000 |\n",
    "| 23 | 10111 |\n",
    "\n",
    "We will represent binary numbers as a list but the least significant bit is the first element and most significant bit is the last element. \n",
    "Eg., the number $(1011)_2$ is written in a list as `[1, 1, 0, 1]`."
   ]
  },
  {
   "cell_type": "code",
   "execution_count": null,
   "id": "several-shuttle",
   "metadata": {
    "colab": {
     "base_uri": "https://localhost:8080/"
    },
    "executionInfo": {
     "elapsed": 252,
     "status": "ok",
     "timestamp": 1622481491567,
     "user": {
      "displayName": "Sriram Sankaranarayanan",
      "photoUrl": "",
      "userId": "12264367605776763929"
     },
     "user_tz": 360
    },
    "id": "several-shuttle",
    "outputId": "83c8d7c6-960e-4914-88bd-808131787c0c"
   },
   "outputs": [
    {
     "name": "stdout",
     "output_type": "stream",
     "text": [
      "time: 5.02 ms (started: 2021-05-31 17:18:13 +00:00)\n"
     ]
    }
   ],
   "source": [
    "def convert_to_binary(n):\n",
    "    assert n >= 0\n",
    "    if n == 0:\n",
    "        return [0]\n",
    "    lst = []\n",
    "    while n > 0:\n",
    "        lst.append( n % 2)\n",
    "        n = n // 2 # Integer division in python uses //\n",
    "    return lst \n",
    "\n",
    "def convert_to_decimal(lst):\n",
    "    sum = 0\n",
    "    f = 1\n",
    "    for elt in lst:\n",
    "        sum = sum + elt * f\n",
    "        f = f * 2\n",
    "    return sum "
   ]
  },
  {
   "cell_type": "code",
   "execution_count": null,
   "id": "naval-dutch",
   "metadata": {
    "colab": {
     "base_uri": "https://localhost:8080/"
    },
    "executionInfo": {
     "elapsed": 3,
     "status": "ok",
     "timestamp": 1622481494254,
     "user": {
      "displayName": "Sriram Sankaranarayanan",
      "photoUrl": "",
      "userId": "12264367605776763929"
     },
     "user_tz": 360
    },
    "id": "naval-dutch",
    "outputId": "dbfbc2d8-999e-493f-bc68-0c38ab75dcfa"
   },
   "outputs": [
    {
     "name": "stdout",
     "output_type": "stream",
     "text": [
      "6 = [0, 1, 1]\n",
      "23 = [1, 1, 1, 0, 1]\n",
      "46 = [0, 1, 1, 1, 0, 1]\n",
      "128 = [0, 0, 0, 0, 0, 0, 0, 1]\n",
      "71 = [1, 1, 1, 0, 0, 0, 1]\n",
      "45\n",
      "22\n",
      "time: 3.88 ms (started: 2021-05-31 17:18:15 +00:00)\n"
     ]
    }
   ],
   "source": [
    "print(f'6 = {convert_to_binary(6)}')\n",
    "print(f'23 = {convert_to_binary(23)}')\n",
    "print(f'46 = {convert_to_binary(46)}')\n",
    "print(f'128 = {convert_to_binary(128)}')\n",
    "print(f'71 = {convert_to_binary(71)}')\n",
    "print(convert_to_decimal([1, 0, 1, 1, 0, 1])) # should be 45\n",
    "print(convert_to_decimal([0, 1, 1, 0, 1])) # should be 22"
   ]
  },
  {
   "cell_type": "markdown",
   "id": "copyrighted-variance",
   "metadata": {
    "id": "copyrighted-variance"
   },
   "source": [
    "## Addition and Subtraction\n",
    "\n",
    "We will implement addition and subtraction for binary numbers.\n",
    "Addition was discussed in the lecture. For subtraction, we use a very nice trick called twos-complement method that turns subtraction into addition after flipping 1s and 0s. \n",
    "See here for a quick explanation: \n",
    "\n",
    "https://www.geeksforgeeks.org/subtraction-of-two-numbers-using-2s-complement/"
   ]
  },
  {
   "cell_type": "code",
   "execution_count": 1,
   "id": "curious-shakespeare",
   "metadata": {
    "colab": {
     "base_uri": "https://localhost:8080/"
    },
    "executionInfo": {
     "elapsed": 4,
     "status": "ok",
     "timestamp": 1622481497133,
     "user": {
      "displayName": "Sriram Sankaranarayanan",
      "photoUrl": "",
      "userId": "12264367605776763929"
     },
     "user_tz": 360
    },
    "id": "curious-shakespeare",
    "outputId": "f64e1b30-0606-49da-a550-1fa286063be5"
   },
   "outputs": [],
   "source": [
    "def bitwise_add(ai, bi, ci):\n",
    "    if ai == 0:\n",
    "        if bi == 0:\n",
    "            return (ci, 0)\n",
    "        else: # ai= 0, bi = 1\n",
    "            return (1-ci, ci)\n",
    "    else:\n",
    "        if bi == 0:\n",
    "            return (1-ci, ci)\n",
    "        else:\n",
    "            return (ci, 1)\n",
    "        \n",
    "def add(a, b):\n",
    "    # add bit strings a, b\n",
    "    (n, m) = len(a), len(b)\n",
    "    carry = 0\n",
    "    c = []\n",
    "    for i in range(max(m,n)):\n",
    "        ai = a[i] if i < n else 0\n",
    "        bi = b[i] if i < m else 0\n",
    "        (ci, carry) = bitwise_add(ai, bi, carry)\n",
    "        c.append(ci)\n",
    "    if carry == 1:\n",
    "        c.append(carry)\n",
    "    return c\n",
    "\n",
    "def subtract(a, b):\n",
    "    # we will use two's complement subtraction\n",
    "    # this is a very nice and common trick where\n",
    "    # we can use addition to perform subraction of\n",
    "    # binary numbers. It is used inside computers.\n",
    "    # assume a >= b -- this will generally hold for all our use cases\n",
    "    n = len(a)\n",
    "    #assert(len(b) <= n)\n",
    "    k = len(a) - len(b)    \n",
    "    bcomp = [1-elt for elt in b] + [1]*k # flip the bits in b and pad with 1s\n",
    "    bcomp2 = add(bcomp, [1]) # add 1\n",
    "    r = add(a, bcomp2)\n",
    "    return r[0:n]\n",
    "\n",
    "def pad(a, k):\n",
    "    return  [0]*k + a \n"
   ]
  },
  {
   "cell_type": "code",
   "execution_count": null,
   "id": "romantic-corporation",
   "metadata": {
    "colab": {
     "base_uri": "https://localhost:8080/"
    },
    "executionInfo": {
     "elapsed": 309,
     "status": "ok",
     "timestamp": 1622481504042,
     "user": {
      "displayName": "Sriram Sankaranarayanan",
      "photoUrl": "",
      "userId": "12264367605776763929"
     },
     "user_tz": 360
    },
    "id": "romantic-corporation",
    "outputId": "80bf6708-74ed-47bd-c3eb-0869ef7e7ec1"
   },
   "outputs": [
    {
     "name": "stdout",
     "output_type": "stream",
     "text": [
      "[0, 1, 1, 1, 1]\n",
      "[1, 0, 1, 1]\n",
      "[1, 0, 0, 1]\n",
      "[1, 0, 1, 0, 1, 1, 0, 1]\n",
      "time: 2.23 ms (started: 2021-05-31 17:18:25 +00:00)\n"
     ]
    }
   ],
   "source": [
    "print(add([1,0,1,1,0], [1, 0, 0, 0, 1])) # should be 0, 1, 1, 1, 1\n",
    "print(add([0, 1, 1], [1, 1, 1])) # should be 1, 0, 1, 1\n",
    "print(add([0, 1], [1, 1, 1])) # should be 1, 0, 0, 1\n",
    "print(add([0], [1,0,1,0,1,1,0,1])) # should be 1, 0, 1, 0, 1, 1, 0, 1"
   ]
  },
  {
   "cell_type": "code",
   "execution_count": null,
   "id": "becoming-premises",
   "metadata": {
    "id": "becoming-premises",
    "outputId": "2ad75a73-d7a5-44a2-c447-4227e3e83b9d"
   },
   "outputs": [
    {
     "name": "stdout",
     "output_type": "stream",
     "text": [
      "[0, 1, 1]\n",
      "[1, 1, 0]\n",
      "[1, 0, 1, 0]\n",
      "[1, 0, 0, 0]\n",
      "[0, 1, 0, 1, 1, 1, 0, 1]\n",
      "time: 1.58 ms (started: 2021-05-13 22:15:46 -06:00)\n"
     ]
    }
   ],
   "source": [
    "print(subtract([1,1,1],[1])) # should be [0, 1, 1]\n",
    "print(subtract([1,0,1], [0, 1])) # should be [1, 1, 0]\n",
    "print(subtract([0, 0, 0, 1], [1, 1])) # should be [1, 0, 1, 0]\n",
    "print(subtract([0, 1, 0, 1], [1, 0, 0, 1])) # should be [1, 0, 0, 0]\n",
    "print(subtract([0, 1, 0, 1, 1, 1, 0, 1],[0]))"
   ]
  },
  {
   "cell_type": "code",
   "execution_count": null,
   "id": "intended-wrong",
   "metadata": {
    "id": "intended-wrong",
    "outputId": "12dfefcc-4e25-44ca-91cb-7262b8b5f19c"
   },
   "outputs": [
    {
     "name": "stdout",
     "output_type": "stream",
     "text": [
      "time: 691 µs (started: 2021-05-13 22:15:47 -06:00)\n"
     ]
    }
   ],
   "source": [
    "def grade_school_multiply(a, b):\n",
    "    n, m = len(a), len(b)\n",
    "    tmp = a\n",
    "    res = [0]\n",
    "    for bit in b:\n",
    "        if bit == 1:\n",
    "            res = add(res, tmp)\n",
    "        tmp = [0]+tmp # shift tmp\n",
    "    return res "
   ]
  },
  {
   "cell_type": "code",
   "execution_count": null,
   "id": "resistant-romantic",
   "metadata": {
    "id": "resistant-romantic",
    "outputId": "ad85eec9-6fdf-4ab6-bd3d-4f5d086c918b"
   },
   "outputs": [
    {
     "name": "stdout",
     "output_type": "stream",
     "text": [
      "[0, 1, 0, 1]\n",
      "[0, 1, 0, 0, 1]\n",
      "[0, 0, 1, 0, 1]\n",
      "[0, 0, 0, 1, 0, 1]\n",
      "time: 1.14 ms (started: 2021-05-13 22:15:47 -06:00)\n"
     ]
    }
   ],
   "source": [
    "print(grade_school_multiply([1, 0, 1], [0, 1])) #  should be 0, 1, 0, 1\n",
    "print(grade_school_multiply([0, 1, 1], [1, 1])) # should be 0, 1, 0, 0 , 1\n",
    "print(grade_school_multiply([0, 0, 1], [1, 0, 1])) # should be 0, 0, 1, 0 , 1\n",
    "print(grade_school_multiply([0, 0, 0, 1], [1, 0, 1])) # should be 0, 0, 0, 1, 0, 1"
   ]
  },
  {
   "cell_type": "code",
   "execution_count": 3,
   "id": "occasional-nothing",
   "metadata": {
    "id": "occasional-nothing",
    "outputId": "61916cb6-1c4c-4522-b5ba-441f6a1a3c7f"
   },
   "outputs": [
    {
     "name": "stdout",
     "output_type": "stream",
     "text": [
      "time: 1.87 ms (started: 2023-03-08 20:27:23 +03:00)\n"
     ]
    }
   ],
   "source": [
    "def karatsuba_multiply(a, b):\n",
    "    (m, n) = len(a), len(b)\n",
    "    if m <= 2 or n <= 2:\n",
    "        # revert to grade school multiplication\n",
    "        return grade_school_multiply(a, b)\n",
    "    else:\n",
    "        mid1 = m//2\n",
    "        a1 = a[0:mid1]\n",
    "        a2 = a[mid1:]\n",
    "        b1 = b[0:mid1]\n",
    "        b2 = b[mid1:]\n",
    "        # [a] = 2^{mid1} * [a2] + [a1]\n",
    "        # [b] = 2^{mid1} * [b2] + [b1]\n",
    "        # [a]* [b] = 2^{2*mid1} ([a2]*[b2]) + 2^mid1 ([a2]*[b1] + [a2]*[b1]) + [a1]*[b1]\n",
    "        \n",
    "        # 3 recursive calls to karatsuba_multiply\n",
    "        r1 = karatsuba_multiply(a1, b1)\n",
    "        r2 = karatsuba_multiply(a2, b2)\n",
    "        r3 = karatsuba_multiply(add(a1, a2), add(b1, b2))\n",
    "        # Do subtraction\n",
    "        r4a = subtract(r3, r1)\n",
    "        r4 = subtract(r4a, r2)\n",
    "        \n",
    "        # Do paddding\n",
    "        s1 = pad(r2, 2*mid1)\n",
    "        s2 = pad(r4, mid1)\n",
    "        s3 = add(s1, s2)\n",
    "        return add(s3, r1)        "
   ]
  },
  {
   "cell_type": "code",
   "execution_count": 4,
   "id": "stopped-evolution",
   "metadata": {
    "id": "stopped-evolution",
    "outputId": "a5bfaba9-f441-4ae8-eb5d-04168d4cf4f9"
   },
   "outputs": [
    {
     "ename": "NameError",
     "evalue": "name 'grade_school_multiply' is not defined",
     "output_type": "error",
     "traceback": [
      "\u001b[0;31m---------------------------------------------------------------------------\u001b[0m",
      "\u001b[0;31mNameError\u001b[0m                                 Traceback (most recent call last)",
      "\u001b[0;32m/tmp/ipykernel_10930/3512300244.py\u001b[0m in \u001b[0;36m<module>\u001b[0;34m\u001b[0m\n\u001b[0;32m----> 1\u001b[0;31m \u001b[0mprint\u001b[0m\u001b[0;34m(\u001b[0m\u001b[0mkaratsuba_multiply\u001b[0m\u001b[0;34m(\u001b[0m\u001b[0;34m[\u001b[0m\u001b[0;36m0\u001b[0m\u001b[0;34m,\u001b[0m \u001b[0;36m0\u001b[0m\u001b[0;34m,\u001b[0m \u001b[0;36m0\u001b[0m\u001b[0;34m,\u001b[0m \u001b[0;36m1\u001b[0m\u001b[0;34m]\u001b[0m\u001b[0;34m,\u001b[0m \u001b[0;34m[\u001b[0m\u001b[0;36m1\u001b[0m\u001b[0;34m,\u001b[0m \u001b[0;36m0\u001b[0m\u001b[0;34m,\u001b[0m \u001b[0;36m1\u001b[0m\u001b[0;34m]\u001b[0m\u001b[0;34m)\u001b[0m\u001b[0;34m)\u001b[0m \u001b[0;31m# should be 0, 0, 0, 1, 0, 1\u001b[0m\u001b[0;34m\u001b[0m\u001b[0;34m\u001b[0m\u001b[0m\n\u001b[0m\u001b[1;32m      2\u001b[0m \u001b[0mprint\u001b[0m\u001b[0;34m(\u001b[0m\u001b[0mkaratsuba_multiply\u001b[0m\u001b[0;34m(\u001b[0m\u001b[0;34m[\u001b[0m\u001b[0;36m0\u001b[0m\u001b[0;34m,\u001b[0m \u001b[0;36m0\u001b[0m\u001b[0;34m,\u001b[0m \u001b[0;36m1\u001b[0m\u001b[0;34m]\u001b[0m\u001b[0;34m,\u001b[0m \u001b[0;34m[\u001b[0m\u001b[0;36m1\u001b[0m\u001b[0;34m,\u001b[0m \u001b[0;36m0\u001b[0m\u001b[0;34m,\u001b[0m \u001b[0;36m1\u001b[0m\u001b[0;34m]\u001b[0m\u001b[0;34m)\u001b[0m\u001b[0;34m)\u001b[0m \u001b[0;31m# should be 0, 0, 1, 0 , 1\u001b[0m\u001b[0;34m\u001b[0m\u001b[0;34m\u001b[0m\u001b[0m\n",
      "\u001b[0;32m/tmp/ipykernel_10930/2103908799.py\u001b[0m in \u001b[0;36mkaratsuba_multiply\u001b[0;34m(a, b)\u001b[0m\n\u001b[1;32m     15\u001b[0m \u001b[0;34m\u001b[0m\u001b[0m\n\u001b[1;32m     16\u001b[0m         \u001b[0;31m# 3 recursive calls to karatsuba_multiply\u001b[0m\u001b[0;34m\u001b[0m\u001b[0;34m\u001b[0m\u001b[0m\n\u001b[0;32m---> 17\u001b[0;31m         \u001b[0mr1\u001b[0m \u001b[0;34m=\u001b[0m \u001b[0mkaratsuba_multiply\u001b[0m\u001b[0;34m(\u001b[0m\u001b[0ma1\u001b[0m\u001b[0;34m,\u001b[0m \u001b[0mb1\u001b[0m\u001b[0;34m)\u001b[0m\u001b[0;34m\u001b[0m\u001b[0;34m\u001b[0m\u001b[0m\n\u001b[0m\u001b[1;32m     18\u001b[0m         \u001b[0mr2\u001b[0m \u001b[0;34m=\u001b[0m \u001b[0mkaratsuba_multiply\u001b[0m\u001b[0;34m(\u001b[0m\u001b[0ma2\u001b[0m\u001b[0;34m,\u001b[0m \u001b[0mb2\u001b[0m\u001b[0;34m)\u001b[0m\u001b[0;34m\u001b[0m\u001b[0;34m\u001b[0m\u001b[0m\n\u001b[1;32m     19\u001b[0m         \u001b[0mr3\u001b[0m \u001b[0;34m=\u001b[0m \u001b[0mkaratsuba_multiply\u001b[0m\u001b[0;34m(\u001b[0m\u001b[0madd\u001b[0m\u001b[0;34m(\u001b[0m\u001b[0ma1\u001b[0m\u001b[0;34m,\u001b[0m \u001b[0ma2\u001b[0m\u001b[0;34m)\u001b[0m\u001b[0;34m,\u001b[0m \u001b[0madd\u001b[0m\u001b[0;34m(\u001b[0m\u001b[0mb1\u001b[0m\u001b[0;34m,\u001b[0m \u001b[0mb2\u001b[0m\u001b[0;34m)\u001b[0m\u001b[0;34m)\u001b[0m\u001b[0;34m\u001b[0m\u001b[0;34m\u001b[0m\u001b[0m\n",
      "\u001b[0;32m/tmp/ipykernel_10930/2103908799.py\u001b[0m in \u001b[0;36mkaratsuba_multiply\u001b[0;34m(a, b)\u001b[0m\n\u001b[1;32m      3\u001b[0m     \u001b[0;32mif\u001b[0m \u001b[0mm\u001b[0m \u001b[0;34m<=\u001b[0m \u001b[0;36m2\u001b[0m \u001b[0;32mor\u001b[0m \u001b[0mn\u001b[0m \u001b[0;34m<=\u001b[0m \u001b[0;36m2\u001b[0m\u001b[0;34m:\u001b[0m\u001b[0;34m\u001b[0m\u001b[0;34m\u001b[0m\u001b[0m\n\u001b[1;32m      4\u001b[0m         \u001b[0;31m# revert to grade school multiplication\u001b[0m\u001b[0;34m\u001b[0m\u001b[0;34m\u001b[0m\u001b[0m\n\u001b[0;32m----> 5\u001b[0;31m         \u001b[0;32mreturn\u001b[0m \u001b[0mgrade_school_multiply\u001b[0m\u001b[0;34m(\u001b[0m\u001b[0ma\u001b[0m\u001b[0;34m,\u001b[0m \u001b[0mb\u001b[0m\u001b[0;34m)\u001b[0m\u001b[0;34m\u001b[0m\u001b[0;34m\u001b[0m\u001b[0m\n\u001b[0m\u001b[1;32m      6\u001b[0m     \u001b[0;32melse\u001b[0m\u001b[0;34m:\u001b[0m\u001b[0;34m\u001b[0m\u001b[0;34m\u001b[0m\u001b[0m\n\u001b[1;32m      7\u001b[0m         \u001b[0mmid1\u001b[0m \u001b[0;34m=\u001b[0m \u001b[0mm\u001b[0m\u001b[0;34m//\u001b[0m\u001b[0;36m2\u001b[0m\u001b[0;34m\u001b[0m\u001b[0;34m\u001b[0m\u001b[0m\n",
      "\u001b[0;31mNameError\u001b[0m: name 'grade_school_multiply' is not defined"
     ]
    },
    {
     "name": "stdout",
     "output_type": "stream",
     "text": [
      "time: 23.5 ms (started: 2023-03-08 20:27:23 +03:00)\n"
     ]
    }
   ],
   "source": [
    "print(karatsuba_multiply([0, 0, 0, 1], [1, 0, 1])) # should be 0, 0, 0, 1, 0, 1\n",
    "print(karatsuba_multiply([0, 0, 1], [1, 0, 1])) # should be 0, 0, 1, 0 , 1"
   ]
  },
  {
   "cell_type": "code",
   "execution_count": null,
   "id": "entertaining-contact",
   "metadata": {
    "id": "entertaining-contact",
    "outputId": "316bec49-b985-4e2b-ea94-d2be1d5319ee"
   },
   "outputs": [
    {
     "name": "stdout",
     "output_type": "stream",
     "text": [
      "[0, 1, 0, 0, 1, 0, 1, 0, 1, 1, 1, 0, 0, 1, 0, 0, 0, 1, 0, 1, 1, 0, 1, 1, 1, 0, 0, 1, 1, 0, 0, 0, 1, 0, 1, 1, 0, 1, 0, 1, 0, 1, 0, 0, 1]\n",
      "time: 1.18 ms (started: 2021-05-13 22:15:50 -06:00)\n"
     ]
    }
   ],
   "source": [
    "print(grade_school_multiply([1, 0, 1, 1, 0, 1, 0, 1, 1, 0, 1, 1, 0, 1, 1, 1, 0, 1, 1, 0, 1, 1, 0], [0, 1, 0, 1, 1, 0, 1, 1, 0, 1, 0, 1, 0, 0, 0, 0, 1, 1, 1, 0, 1, 0,1]))"
   ]
  },
  {
   "cell_type": "code",
   "execution_count": null,
   "id": "automatic-register",
   "metadata": {
    "id": "automatic-register",
    "outputId": "7ef52fac-d38e-4240-ca56-96f757bdb718"
   },
   "outputs": [
    {
     "name": "stdout",
     "output_type": "stream",
     "text": [
      "[0, 1, 0, 0, 1, 0, 1, 0, 1, 1, 1, 0, 0, 1, 0, 0, 0, 1, 0, 1, 1, 0, 1, 1, 1, 0, 0, 1, 1, 0, 0, 0, 1, 0, 1, 1, 0, 1, 0, 1, 0, 1, 0, 0, 1]\n",
      "time: 2.52 ms (started: 2021-05-13 22:15:51 -06:00)\n"
     ]
    }
   ],
   "source": [
    "print(karatsuba_multiply([1, 0, 1, 1, 0, 1, 0, 1, 1, 0, 1, 1, 0, 1, 1, 1, 0, 1, 1, 0, 1, 1, 0], [0, 1, 0, 1, 1, 0, 1, 1, 0, 1, 0, 1, 0, 0, 0, 0, 1, 1, 1, 0, 1, 0,1]))"
   ]
  },
  {
   "cell_type": "code",
   "execution_count": null,
   "id": "several-unemployment",
   "metadata": {
    "id": "several-unemployment",
    "outputId": "8c32d0c4-ece1-4fdd-fe29-438086ec6378"
   },
   "outputs": [
    {
     "name": "stdout",
     "output_type": "stream",
     "text": [
      "time: 27.9 ms (started: 2021-05-13 22:15:52 -06:00)\n"
     ]
    }
   ],
   "source": [
    "from random import randint\n",
    "a = [randint(0, 1) for j in range(10000)]\n",
    "b = [randint(0, 1) for j in range(10000)]\n"
   ]
  },
  {
   "cell_type": "code",
   "execution_count": null,
   "id": "conservative-being",
   "metadata": {
    "id": "conservative-being",
    "outputId": "663e081a-a2fa-4c50-8508-874863b142ce"
   },
   "outputs": [
    {
     "name": "stdout",
     "output_type": "stream",
     "text": [
      "time: 30 s (started: 2021-05-13 22:15:56 -06:00)\n"
     ]
    }
   ],
   "source": [
    "c = grade_school_multiply(a,b)"
   ]
  },
  {
   "cell_type": "code",
   "execution_count": null,
   "id": "macro-alexandria",
   "metadata": {
    "id": "macro-alexandria",
    "outputId": "3d554474-d5e9-4855-ed81-7099e50ea050"
   },
   "outputs": [
    {
     "name": "stdout",
     "output_type": "stream",
     "text": [
      "time: 23.1 s (started: 2021-05-13 22:16:26 -06:00)\n"
     ]
    }
   ],
   "source": [
    "c = karatsuba_multiply(a, b)"
   ]
  }
 ],
 "metadata": {
  "colab": {
   "provenance": []
  },
  "kernelspec": {
   "display_name": "Python 3 (ipykernel)",
   "language": "python",
   "name": "python3"
  },
  "language_info": {
   "codemirror_mode": {
    "name": "ipython",
    "version": 3
   },
   "file_extension": ".py",
   "mimetype": "text/x-python",
   "name": "python",
   "nbconvert_exporter": "python",
   "pygments_lexer": "ipython3",
   "version": "3.10.6"
  }
 },
 "nbformat": 4,
 "nbformat_minor": 5
}
